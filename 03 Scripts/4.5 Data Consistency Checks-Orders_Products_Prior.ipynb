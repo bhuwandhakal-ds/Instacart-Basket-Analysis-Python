{
 "cells": [
  {
   "cell_type": "markdown",
   "id": "2d8c5fe9",
   "metadata": {},
   "source": [
    "# 01 Importing libraries"
   ]
  },
  {
   "cell_type": "code",
   "execution_count": 1,
   "id": "221c1576",
   "metadata": {},
   "outputs": [],
   "source": [
    "import pandas as pd\n",
    "import numpy as np\n",
    "import os"
   ]
  },
  {
   "cell_type": "markdown",
   "id": "691c8afe",
   "metadata": {},
   "source": [
    "# 02 Turn project folder path into a string"
   ]
  },
  {
   "cell_type": "code",
   "execution_count": 2,
   "id": "90dd5abf",
   "metadata": {},
   "outputs": [],
   "source": [
    "path = r'C:\\Users\\nanu_\\Documents\\Career Foundry\\Projects\\2 Data Immersion\\Python fundamental for Data Analysis\\01-2024 Instacart Basket analysis'"
   ]
  },
  {
   "cell_type": "code",
   "execution_count": 3,
   "id": "cb9885c9",
   "metadata": {},
   "outputs": [
    {
     "data": {
      "text/plain": [
       "'C:\\\\Users\\\\nanu_\\\\Documents\\\\Career Foundry\\\\Projects\\\\2 Data Immersion\\\\Python fundamental for Data Analysis\\\\01-2024 Instacart Basket analysis'"
      ]
     },
     "execution_count": 3,
     "metadata": {},
     "output_type": "execute_result"
    }
   ],
   "source": [
    "path"
   ]
  },
  {
   "cell_type": "markdown",
   "id": "01ff772a",
   "metadata": {},
   "source": [
    "## 03 Importing orders_products_prior.csv  dataset"
   ]
  },
  {
   "cell_type": "code",
   "execution_count": 4,
   "id": "91066bc3",
   "metadata": {},
   "outputs": [],
   "source": [
    "df_prods = pd.read_csv(os.path.join(path, '02 Data', 'Original Data', 'orders_products_prior.csv'), index_col = False)"
   ]
  },
  {
   "cell_type": "markdown",
   "id": "38336a4f",
   "metadata": {},
   "source": [
    "# 04 Check for Mixed-Type Data"
   ]
  },
  {
   "cell_type": "code",
   "execution_count": 5,
   "id": "0e78c319",
   "metadata": {},
   "outputs": [
    {
     "name": "stdout",
     "output_type": "stream",
     "text": [
      "No columns with mixed datatype\n"
     ]
    }
   ],
   "source": [
    "# Check for mixed types\n",
    "for col in df_prods.columns.tolist():\n",
    "  weird = (df_prods[[col]].applymap(type) != df_prods[[col]].iloc[0].apply(type)).any(axis = 1)\n",
    "if len (df_prods[weird]) > 0:\n",
    "    print (\"Column \" + col + \" has mixed data type\")\n",
    "else:\n",
    "    print (\"No columns with mixed datatype\")"
   ]
  },
  {
   "cell_type": "markdown",
   "id": "0d062838",
   "metadata": {},
   "source": [
    "# 05 Missing Values"
   ]
  },
  {
   "cell_type": "code",
   "execution_count": 6,
   "id": "5d927159",
   "metadata": {},
   "outputs": [
    {
     "data": {
      "text/plain": [
       "order_id             0\n",
       "product_id           0\n",
       "add_to_cart_order    0\n",
       "reordered            0\n",
       "dtype: int64"
      ]
     },
     "execution_count": 6,
     "metadata": {},
     "output_type": "execute_result"
    }
   ],
   "source": [
    "# finding missing values in df_prods\n",
    "df_prods.isnull().sum()"
   ]
  },
  {
   "cell_type": "markdown",
   "id": "1ea34ca6",
   "metadata": {},
   "source": [
    "#### The output shows there are no missing values"
   ]
  },
  {
   "cell_type": "code",
   "execution_count": 7,
   "id": "1969993e",
   "metadata": {},
   "outputs": [],
   "source": [
    "# df.describe()\n",
    "\n",
    "# df['column with missings'].fillna(mean value, inplace=True)\n",
    "\n",
    "# df_prods.median()\n",
    "\n",
    "# df['column with missings'].fillna(median value, inplace=True)\n"
   ]
  },
  {
   "cell_type": "code",
   "execution_count": 8,
   "id": "7a60e726",
   "metadata": {},
   "outputs": [
    {
     "data": {
      "text/plain": [
       "(32434489, 4)"
      ]
     },
     "execution_count": 8,
     "metadata": {},
     "output_type": "execute_result"
    }
   ],
   "source": [
    "# Checking the number of rows and columns before clean up\n",
    "df_prods.shape"
   ]
  },
  {
   "cell_type": "code",
   "execution_count": 17,
   "id": "30c0414e",
   "metadata": {},
   "outputs": [],
   "source": [
    "#  drop all missing values from df_prods \n",
    "\n",
    "# df_prods.dropna(inplace=True)\n",
    "\n",
    "# If you wanted to drop only the NaNs from a particular column.  Inplace=True with replace the existing dataframe with new.\n",
    "\n",
    "# df_prods.dropna(subset='product_name',inplace=True)"
   ]
  },
  {
   "cell_type": "markdown",
   "id": "7a267996",
   "metadata": {},
   "source": [
    "# 06 Finding Duplicates"
   ]
  },
  {
   "cell_type": "code",
   "execution_count": 10,
   "id": "59409ca6",
   "metadata": {},
   "outputs": [],
   "source": [
    "# extract duplicate observations from df_prods_clean and store it in dataframe df_dups\n",
    "df_dups = df_prods[df_prods.duplicated()]"
   ]
  },
  {
   "cell_type": "code",
   "execution_count": 11,
   "id": "417a1639",
   "metadata": {},
   "outputs": [
    {
     "data": {
      "text/html": [
       "<div>\n",
       "<style scoped>\n",
       "    .dataframe tbody tr th:only-of-type {\n",
       "        vertical-align: middle;\n",
       "    }\n",
       "\n",
       "    .dataframe tbody tr th {\n",
       "        vertical-align: top;\n",
       "    }\n",
       "\n",
       "    .dataframe thead th {\n",
       "        text-align: right;\n",
       "    }\n",
       "</style>\n",
       "<table border=\"1\" class=\"dataframe\">\n",
       "  <thead>\n",
       "    <tr style=\"text-align: right;\">\n",
       "      <th></th>\n",
       "      <th>order_id</th>\n",
       "      <th>product_id</th>\n",
       "      <th>add_to_cart_order</th>\n",
       "      <th>reordered</th>\n",
       "    </tr>\n",
       "  </thead>\n",
       "  <tbody>\n",
       "  </tbody>\n",
       "</table>\n",
       "</div>"
      ],
      "text/plain": [
       "Empty DataFrame\n",
       "Columns: [order_id, product_id, add_to_cart_order, reordered]\n",
       "Index: []"
      ]
     },
     "execution_count": 11,
     "metadata": {},
     "output_type": "execute_result"
    }
   ],
   "source": [
    "df_dups"
   ]
  },
  {
   "cell_type": "markdown",
   "id": "2e57a543",
   "metadata": {},
   "source": [
    "#### There are no Duplicate values in dataframe"
   ]
  },
  {
   "cell_type": "markdown",
   "id": "fd2e1c4c",
   "metadata": {},
   "source": [
    "# 07 Exporting Clean Data"
   ]
  },
  {
   "cell_type": "markdown",
   "id": "d0c02457",
   "metadata": {},
   "source": [
    "There is no need for exporting as the data is clean. There were no missing values and duplicate values. So we will use the original data for further analysis"
   ]
  },
  {
   "cell_type": "code",
   "execution_count": null,
   "id": "0fcb51a0",
   "metadata": {},
   "outputs": [],
   "source": []
  }
 ],
 "metadata": {
  "kernelspec": {
   "display_name": "Python 3 (ipykernel)",
   "language": "python",
   "name": "python3"
  },
  "language_info": {
   "codemirror_mode": {
    "name": "ipython",
    "version": 3
   },
   "file_extension": ".py",
   "mimetype": "text/x-python",
   "name": "python",
   "nbconvert_exporter": "python",
   "pygments_lexer": "ipython3",
   "version": "3.9.13"
  }
 },
 "nbformat": 4,
 "nbformat_minor": 5
}
