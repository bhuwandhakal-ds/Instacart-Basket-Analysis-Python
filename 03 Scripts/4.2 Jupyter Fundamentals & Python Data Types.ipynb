{
 "cells": [
  {
   "cell_type": "markdown",
   "id": "7668bc2f",
   "metadata": {},
   "source": [
    "# Import Libraries"
   ]
  },
  {
   "cell_type": "code",
   "execution_count": 2,
   "id": "99c58fa9",
   "metadata": {},
   "outputs": [],
   "source": [
    "import pandas as pd\n",
    "import numpy as np\n",
    "import os"
   ]
  },
  {
   "cell_type": "markdown",
   "id": "f5f135eb",
   "metadata": {},
   "source": [
    "## Python Data Types"
   ]
  },
  {
   "cell_type": "markdown",
   "id": "cb9ad9a0",
   "metadata": {},
   "source": [
    "### Q7 Code 3 different ways of reaching a result of 100 by adding or subtracting numeric variables"
   ]
  },
  {
   "cell_type": "code",
   "execution_count": 14,
   "id": "a865f86c",
   "metadata": {},
   "outputs": [],
   "source": [
    "x=60"
   ]
  },
  {
   "cell_type": "code",
   "execution_count": 15,
   "id": "bd22fbe3",
   "metadata": {},
   "outputs": [
    {
     "name": "stdout",
     "output_type": "stream",
     "text": [
      "60\n"
     ]
    }
   ],
   "source": [
    "print(x)"
   ]
  },
  {
   "cell_type": "code",
   "execution_count": 16,
   "id": "34c4c870",
   "metadata": {},
   "outputs": [],
   "source": [
    "x= x+40"
   ]
  },
  {
   "cell_type": "code",
   "execution_count": 17,
   "id": "a2439f2b",
   "metadata": {},
   "outputs": [
    {
     "name": "stdout",
     "output_type": "stream",
     "text": [
      "100\n"
     ]
    }
   ],
   "source": [
    "print(x)"
   ]
  },
  {
   "cell_type": "code",
   "execution_count": 18,
   "id": "9ff978a8",
   "metadata": {},
   "outputs": [],
   "source": [
    "y=150"
   ]
  },
  {
   "cell_type": "code",
   "execution_count": 19,
   "id": "efd89afc",
   "metadata": {},
   "outputs": [
    {
     "name": "stdout",
     "output_type": "stream",
     "text": [
      "150\n"
     ]
    }
   ],
   "source": [
    "print(y)"
   ]
  },
  {
   "cell_type": "code",
   "execution_count": 20,
   "id": "38ad7524",
   "metadata": {},
   "outputs": [],
   "source": [
    "y=y-50"
   ]
  },
  {
   "cell_type": "code",
   "execution_count": 21,
   "id": "19be4ec8",
   "metadata": {},
   "outputs": [
    {
     "name": "stdout",
     "output_type": "stream",
     "text": [
      "100\n"
     ]
    }
   ],
   "source": [
    "print(y)"
   ]
  },
  {
   "cell_type": "code",
   "execution_count": 22,
   "id": "a437c61a",
   "metadata": {},
   "outputs": [],
   "source": [
    "z=20"
   ]
  },
  {
   "cell_type": "code",
   "execution_count": 23,
   "id": "3c228a2d",
   "metadata": {},
   "outputs": [
    {
     "name": "stdout",
     "output_type": "stream",
     "text": [
      "20\n"
     ]
    }
   ],
   "source": [
    "print(z)"
   ]
  },
  {
   "cell_type": "code",
   "execution_count": 24,
   "id": "48c61674",
   "metadata": {},
   "outputs": [],
   "source": [
    "z=z*5"
   ]
  },
  {
   "cell_type": "code",
   "execution_count": 25,
   "id": "c15d8a5f",
   "metadata": {},
   "outputs": [
    {
     "name": "stdout",
     "output_type": "stream",
     "text": [
      "100\n"
     ]
    }
   ],
   "source": [
    "print(z)"
   ]
  },
  {
   "cell_type": "code",
   "execution_count": 26,
   "id": "8599ab21",
   "metadata": {},
   "outputs": [],
   "source": [
    "p=500"
   ]
  },
  {
   "cell_type": "code",
   "execution_count": 27,
   "id": "9e09e936",
   "metadata": {},
   "outputs": [
    {
     "name": "stdout",
     "output_type": "stream",
     "text": [
      "500\n"
     ]
    }
   ],
   "source": [
    "print(p)"
   ]
  },
  {
   "cell_type": "code",
   "execution_count": 28,
   "id": "24dc35b6",
   "metadata": {},
   "outputs": [],
   "source": [
    "p=p/5"
   ]
  },
  {
   "cell_type": "code",
   "execution_count": 30,
   "id": "1417f9a8",
   "metadata": {},
   "outputs": [
    {
     "name": "stdout",
     "output_type": "stream",
     "text": [
      "100.0\n"
     ]
    }
   ],
   "source": [
    "print(p)"
   ]
  },
  {
   "cell_type": "markdown",
   "id": "e49a65d7",
   "metadata": {},
   "source": [
    "### Q8. Code 2 floating-point variables and divide them by each other."
   ]
  },
  {
   "cell_type": "code",
   "execution_count": 31,
   "id": "5dae32b2",
   "metadata": {},
   "outputs": [],
   "source": [
    "x= 5.679"
   ]
  },
  {
   "cell_type": "code",
   "execution_count": 32,
   "id": "9412b886",
   "metadata": {},
   "outputs": [],
   "source": [
    "y= 6.59"
   ]
  },
  {
   "cell_type": "code",
   "execution_count": 33,
   "id": "cda2e2e9",
   "metadata": {},
   "outputs": [],
   "source": [
    "z= x/y"
   ]
  },
  {
   "cell_type": "code",
   "execution_count": 34,
   "id": "80792bc0",
   "metadata": {},
   "outputs": [
    {
     "name": "stdout",
     "output_type": "stream",
     "text": [
      "0.8617602427921093\n"
     ]
    }
   ],
   "source": [
    "print(z)"
   ]
  },
  {
   "cell_type": "markdown",
   "id": "f416399d",
   "metadata": {},
   "source": [
    "### Q9 Construct a short word made of separate strings (you’ll need to concatenate some strings!)."
   ]
  },
  {
   "cell_type": "code",
   "execution_count": 39,
   "id": "4483de4a",
   "metadata": {},
   "outputs": [],
   "source": [
    "a= 'Hello, '"
   ]
  },
  {
   "cell_type": "code",
   "execution_count": 40,
   "id": "1f0164a2",
   "metadata": {},
   "outputs": [],
   "source": [
    "b= 'World'"
   ]
  },
  {
   "cell_type": "code",
   "execution_count": 41,
   "id": "40f97a40",
   "metadata": {},
   "outputs": [
    {
     "data": {
      "text/plain": [
       "'Hello, World'"
      ]
     },
     "execution_count": 41,
     "metadata": {},
     "output_type": "execute_result"
    }
   ],
   "source": [
    "a+b"
   ]
  },
  {
   "cell_type": "markdown",
   "id": "4ffec792",
   "metadata": {},
   "source": [
    "### Q10. Construct 2 short sentences made of separate strings."
   ]
  },
  {
   "cell_type": "code",
   "execution_count": 48,
   "id": "bef48f70",
   "metadata": {},
   "outputs": [],
   "source": [
    "a= 'My name is Ryan. '"
   ]
  },
  {
   "cell_type": "code",
   "execution_count": 49,
   "id": "c43d38d6",
   "metadata": {},
   "outputs": [],
   "source": [
    "b= 'I live in Texas.'"
   ]
  },
  {
   "cell_type": "code",
   "execution_count": 50,
   "id": "4865d4e5",
   "metadata": {},
   "outputs": [
    {
     "data": {
      "text/plain": [
       "'My name is Ryan. I live in Texas.'"
      ]
     },
     "execution_count": 50,
     "metadata": {},
     "output_type": "execute_result"
    }
   ],
   "source": [
    "a+b"
   ]
  },
  {
   "cell_type": "code",
   "execution_count": null,
   "id": "0b15e08b",
   "metadata": {},
   "outputs": [],
   "source": []
  }
 ],
 "metadata": {
  "kernelspec": {
   "display_name": "Python 3 (ipykernel)",
   "language": "python",
   "name": "python3"
  },
  "language_info": {
   "codemirror_mode": {
    "name": "ipython",
    "version": 3
   },
   "file_extension": ".py",
   "mimetype": "text/x-python",
   "name": "python",
   "nbconvert_exporter": "python",
   "pygments_lexer": "ipython3",
   "version": "3.9.12"
  }
 },
 "nbformat": 4,
 "nbformat_minor": 5
}
